{
 "cells": [
  {
   "cell_type": "code",
   "execution_count": 58,
   "metadata": {},
   "outputs": [],
   "source": [
    "%matplotlib inline\n",
    "import pandas as pd\n",
    "import numpy as np\n"
   ]
  },
  {
   "cell_type": "code",
   "execution_count": 39,
   "metadata": {},
   "outputs": [],
   "source": [
    "data = pd.read_csv('ratings.csv')\n",
    "#cast to int so IDS can be used as indices\n",
    "data = data.astype(int)"
   ]
  },
  {
   "cell_type": "code",
   "execution_count": 3,
   "metadata": {},
   "outputs": [],
   "source": [
    "#encoding Movie Ids as indices from 0 -> # of unique movies)))\n",
    "encode, decode = {}, {}\n",
    "for i, x in enumerate(data['movieId'].unique()):\n",
    "    encode[x] = i\n",
    "    decode[i] = x\n",
    "    \n",
    "data['movieId'] = data['movieId'].apply(lambda x: encode[x])\n",
    "\n"
   ]
  },
  {
   "cell_type": "code",
   "execution_count": 4,
   "metadata": {},
   "outputs": [],
   "source": [
    "ratings = data.pivot(index='userId', columns='movieId', values='rating')\n",
    "\n",
    "samples = data[['userId', 'movieId', 'rating']].copy()\n",
    "#subtract one to map userId to proper indices \n",
    "samples['userId'] = samples['userId'] - 1\n",
    "samples = samples.values\n"
   ]
  },
  {
   "cell_type": "code",
   "execution_count": 50,
   "metadata": {},
   "outputs": [],
   "source": [
    "#rsme calculator\n",
    "def rmse(dset):\n",
    "    rmse = 0 \n",
    "    for i, j, rating in dset:\n",
    "        rmse += np.power((rating - res[i, j]), 2)\n",
    "    return np.sqrt(1/len(dset) * rmse)\n",
    "    "
   ]
  },
  {
   "cell_type": "code",
   "execution_count": 73,
   "metadata": {},
   "outputs": [
    {
     "data": {
      "text/plain": [
       "100836"
      ]
     },
     "execution_count": 73,
     "metadata": {},
     "output_type": "execute_result"
    }
   ],
   "source": [
    "len(samples)"
   ]
  },
  {
   "cell_type": "code",
   "execution_count": 62,
   "metadata": {},
   "outputs": [],
   "source": [
    "#shuffling dataset\n",
    "np.random.shuffle(samples)"
   ]
  },
  {
   "cell_type": "code",
   "execution_count": 75,
   "metadata": {},
   "outputs": [
    {
     "name": "stdout",
     "output_type": "stream",
     "text": [
      "iteration 10 \n",
      "rsme for train\n",
      " 1.282291080504197 \n",
      "rsme for test\n",
      " 1.4572466694296276\n",
      "iteration 20 \n",
      "rsme for train\n",
      " 1.086910164609621 \n",
      "rsme for test\n",
      " 1.3114669089774726\n"
     ]
    }
   ],
   "source": [
    "len_users, len_movies = ratings.shape\n",
    "K = 1\n",
    "\n",
    "#this is the best LR i've found so far\n",
    "lr = .01\n",
    "#arbitrarily chosen\n",
    "lmb = .5\n",
    "#might change epochs later depending on learning rate\n",
    "epochs = 30\n",
    "\n",
    "U = np.random.normal(scale=1./K, size=(len_users, K))\n",
    "V = np.random.normal(scale=1./K, size=(len_movies, K))\n",
    "\n",
    "train = samples[:80000]\n",
    "test = samples[90000:]\n",
    "error = []\n",
    "for iteration in range(1, epochs):\n",
    "    #shuffles train set before running SGD\n",
    "    np.random.shuffle(train)\n",
    "    for i, j, rating in train:\n",
    "        pred = U[i,:] * V[j,:]\n",
    "        err = (rating - pred)\n",
    "\n",
    "        U[i, :] += lr * (err * V[j, :] - (lmb * U[i, :]))\n",
    "        V[j, :] += lr * (err * U[i, :] - (lmb * V[j, :]))\n",
    "    \n",
    "    res = U @ V.T\n",
    "    \n",
    "    rmse_train = rmse(train)\n",
    "    rmse_test = rmse(test)\n",
    "    if iteration % 10 == 0:\n",
    "        print('iteration', iteration, '\\nrsme for train\\n', rmse_train, \n",
    "               '\\nrsme for test\\n', rmse_test)\n",
    "    error += [(rmse_train, rmse_test)]\n",
    "\n",
    "    \n",
    "\n",
    "    "
   ]
  },
  {
   "cell_type": "code",
   "execution_count": 76,
   "metadata": {},
   "outputs": [
    {
     "data": {
      "text/plain": [
       "<matplotlib.axes._subplots.AxesSubplot at 0x7f8430b1ada0>"
      ]
     },
     "execution_count": 76,
     "metadata": {},
     "output_type": "execute_result"
    },
    {
     "data": {
      "image/png": "[encoded data removed]",
      "text/plain": [
       "<Figure size 432x288 with 1 Axes>"
      ]
     },
     "metadata": {
      "needs_background": "light"
     },
     "output_type": "display_data"
    }
   ],
   "source": [
    "#plotting\n",
    "pd.DataFrame(data=error, columns=['train', 'test']).plot(title='MSE Train/Test by epoch')"
   ]
  },
  {
   "cell_type": "code",
   "execution_count": 10,
   "metadata": {},
   "outputs": [
    {
     "data": {
      "text/plain": [
       "array([[100,  91,  97, ...,   0,   1,   1],\n",
       "       [ 30,  28,  30, ...,   0,   0,   0],\n",
       "       [  7,   6,   7, ...,   0,   0,   0],\n",
       "       ...,\n",
       "       [  0,   0,   0, ...,   0,   0,   0],\n",
       "       [  0,   0,   0, ...,   0,   0,   0],\n",
       "       [  0,   0,   0, ...,   0,   0,   0]])"
      ]
     },
     "execution_count": 10,
     "metadata": {},
     "output_type": "execute_result"
    }
   ],
   "source": [
    "(U @ V.T).astype(int)"
   ]
  },
  {
   "cell_type": "code",
   "execution_count": 243,
   "metadata": {},
   "outputs": [
    {
     "data": {
      "text/plain": [
       "(610, 9724)"
      ]
     },
     "execution_count": 243,
     "metadata": {},
     "output_type": "execute_result"
    }
   ],
   "source": []
  },
  {
   "cell_type": "code",
   "execution_count": null,
   "metadata": {},
   "outputs": [],
   "source": []
  }
 ],
 "metadata": {
  "kernelspec": {
   "display_name": "Python 3",
   "language": "python",
   "name": "python3"
  },
  "language_info": {
   "codemirror_mode": {
    "name": "ipython",
    "version": 3
   },
   "file_extension": ".py",
   "mimetype": "text/x-python",
   "name": "python",
   "nbconvert_exporter": "python",
   "pygments_lexer": "ipython3",
   "version": "3.7.3"
  }
 },
 "nbformat": 4,
 "nbformat_minor": 2
}

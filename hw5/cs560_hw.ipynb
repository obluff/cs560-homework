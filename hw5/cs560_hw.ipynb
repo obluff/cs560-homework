{
 "cells": [
  {
   "cell_type": "code",
   "execution_count": 1,
   "metadata": {},
   "outputs": [],
   "source": [
    "%matplotlib inline\n",
    "import pandas as pd\n",
    "import numpy as np\n"
   ]
  },
  {
   "cell_type": "markdown",
   "metadata": {},
   "source": [
    "## After deriving the stochastic gradient\n",
    "DF(U,V)/DU = (\n",
    "            \n",
    "\n",
    "            U[i, :] += lr * (err * V[j, :] - (lmb * U[i, :]))\n",
    "            V[j, :] += lr * (err * U[i, :] - (lmb * V[j, :]))"
   ]
  },
  {
   "cell_type": "code",
   "execution_count": 2,
   "metadata": {},
   "outputs": [],
   "source": [
    "data = pd.read_csv('ratings.csv')\n",
    "#cast to int so IDS can be used as indices\n",
    "data = data.astype(int)"
   ]
  },
  {
   "cell_type": "code",
   "execution_count": 3,
   "metadata": {},
   "outputs": [],
   "source": [
    "#encoding Movie Ids as indices from 0 -> # of unique movies)))\n",
    "encode, decode = {}, {}\n",
    "for i, x in enumerate(data['movieId'].unique()):\n",
    "    encode[x] = i\n",
    "    decode[i] = x\n",
    "    \n",
    "data['movieId'] = data['movieId'].apply(lambda x: encode[x])\n",
    "\n"
   ]
  },
  {
   "cell_type": "code",
   "execution_count": 4,
   "metadata": {},
   "outputs": [
    {
     "data": {
      "text/html": [
       "<div>\n",
       "<style scoped>\n",
       "    .dataframe tbody tr th:only-of-type {\n",
       "        vertical-align: middle;\n",
       "    }\n",
       "\n",
       "    .dataframe tbody tr th {\n",
       "        vertical-align: top;\n",
       "    }\n",
       "\n",
       "    .dataframe thead th {\n",
       "        text-align: right;\n",
       "    }\n",
       "</style>\n",
       "<table border=\"1\" class=\"dataframe\">\n",
       "  <thead>\n",
       "    <tr style=\"text-align: right;\">\n",
       "      <th>movieId</th>\n",
       "      <th>0</th>\n",
       "      <th>1</th>\n",
       "      <th>2</th>\n",
       "      <th>3</th>\n",
       "      <th>4</th>\n",
       "      <th>5</th>\n",
       "      <th>6</th>\n",
       "      <th>7</th>\n",
       "      <th>8</th>\n",
       "      <th>9</th>\n",
       "      <th>...</th>\n",
       "      <th>9714</th>\n",
       "      <th>9715</th>\n",
       "      <th>9716</th>\n",
       "      <th>9717</th>\n",
       "      <th>9718</th>\n",
       "      <th>9719</th>\n",
       "      <th>9720</th>\n",
       "      <th>9721</th>\n",
       "      <th>9722</th>\n",
       "      <th>9723</th>\n",
       "    </tr>\n",
       "    <tr>\n",
       "      <th>userId</th>\n",
       "      <th></th>\n",
       "      <th></th>\n",
       "      <th></th>\n",
       "      <th></th>\n",
       "      <th></th>\n",
       "      <th></th>\n",
       "      <th></th>\n",
       "      <th></th>\n",
       "      <th></th>\n",
       "      <th></th>\n",
       "      <th></th>\n",
       "      <th></th>\n",
       "      <th></th>\n",
       "      <th></th>\n",
       "      <th></th>\n",
       "      <th></th>\n",
       "      <th></th>\n",
       "      <th></th>\n",
       "      <th></th>\n",
       "      <th></th>\n",
       "      <th></th>\n",
       "    </tr>\n",
       "  </thead>\n",
       "  <tbody>\n",
       "    <tr>\n",
       "      <th>1</th>\n",
       "      <td>4.0</td>\n",
       "      <td>4.0</td>\n",
       "      <td>4.0</td>\n",
       "      <td>5.0</td>\n",
       "      <td>5.0</td>\n",
       "      <td>3.0</td>\n",
       "      <td>5.0</td>\n",
       "      <td>4.0</td>\n",
       "      <td>5.0</td>\n",
       "      <td>5.0</td>\n",
       "      <td>...</td>\n",
       "      <td>NaN</td>\n",
       "      <td>NaN</td>\n",
       "      <td>NaN</td>\n",
       "      <td>NaN</td>\n",
       "      <td>NaN</td>\n",
       "      <td>NaN</td>\n",
       "      <td>NaN</td>\n",
       "      <td>NaN</td>\n",
       "      <td>NaN</td>\n",
       "      <td>NaN</td>\n",
       "    </tr>\n",
       "    <tr>\n",
       "      <th>2</th>\n",
       "      <td>NaN</td>\n",
       "      <td>NaN</td>\n",
       "      <td>NaN</td>\n",
       "      <td>NaN</td>\n",
       "      <td>NaN</td>\n",
       "      <td>NaN</td>\n",
       "      <td>NaN</td>\n",
       "      <td>NaN</td>\n",
       "      <td>NaN</td>\n",
       "      <td>NaN</td>\n",
       "      <td>...</td>\n",
       "      <td>NaN</td>\n",
       "      <td>NaN</td>\n",
       "      <td>NaN</td>\n",
       "      <td>NaN</td>\n",
       "      <td>NaN</td>\n",
       "      <td>NaN</td>\n",
       "      <td>NaN</td>\n",
       "      <td>NaN</td>\n",
       "      <td>NaN</td>\n",
       "      <td>NaN</td>\n",
       "    </tr>\n",
       "    <tr>\n",
       "      <th>3</th>\n",
       "      <td>NaN</td>\n",
       "      <td>NaN</td>\n",
       "      <td>NaN</td>\n",
       "      <td>NaN</td>\n",
       "      <td>NaN</td>\n",
       "      <td>NaN</td>\n",
       "      <td>NaN</td>\n",
       "      <td>NaN</td>\n",
       "      <td>NaN</td>\n",
       "      <td>NaN</td>\n",
       "      <td>...</td>\n",
       "      <td>NaN</td>\n",
       "      <td>NaN</td>\n",
       "      <td>NaN</td>\n",
       "      <td>NaN</td>\n",
       "      <td>NaN</td>\n",
       "      <td>NaN</td>\n",
       "      <td>NaN</td>\n",
       "      <td>NaN</td>\n",
       "      <td>NaN</td>\n",
       "      <td>NaN</td>\n",
       "    </tr>\n",
       "    <tr>\n",
       "      <th>4</th>\n",
       "      <td>NaN</td>\n",
       "      <td>NaN</td>\n",
       "      <td>NaN</td>\n",
       "      <td>2.0</td>\n",
       "      <td>NaN</td>\n",
       "      <td>NaN</td>\n",
       "      <td>NaN</td>\n",
       "      <td>NaN</td>\n",
       "      <td>NaN</td>\n",
       "      <td>NaN</td>\n",
       "      <td>...</td>\n",
       "      <td>NaN</td>\n",
       "      <td>NaN</td>\n",
       "      <td>NaN</td>\n",
       "      <td>NaN</td>\n",
       "      <td>NaN</td>\n",
       "      <td>NaN</td>\n",
       "      <td>NaN</td>\n",
       "      <td>NaN</td>\n",
       "      <td>NaN</td>\n",
       "      <td>NaN</td>\n",
       "    </tr>\n",
       "    <tr>\n",
       "      <th>5</th>\n",
       "      <td>4.0</td>\n",
       "      <td>NaN</td>\n",
       "      <td>NaN</td>\n",
       "      <td>NaN</td>\n",
       "      <td>4.0</td>\n",
       "      <td>NaN</td>\n",
       "      <td>NaN</td>\n",
       "      <td>4.0</td>\n",
       "      <td>NaN</td>\n",
       "      <td>NaN</td>\n",
       "      <td>...</td>\n",
       "      <td>NaN</td>\n",
       "      <td>NaN</td>\n",
       "      <td>NaN</td>\n",
       "      <td>NaN</td>\n",
       "      <td>NaN</td>\n",
       "      <td>NaN</td>\n",
       "      <td>NaN</td>\n",
       "      <td>NaN</td>\n",
       "      <td>NaN</td>\n",
       "      <td>NaN</td>\n",
       "    </tr>\n",
       "  </tbody>\n",
       "</table>\n",
       "<p>5 rows × 9724 columns</p>\n",
       "</div>"
      ],
      "text/plain": [
       "movieId  0     1     2     3     4     5     6     7     8     9     ...   \\\n",
       "userId                                                               ...    \n",
       "1         4.0   4.0   4.0   5.0   5.0   3.0   5.0   4.0   5.0   5.0  ...    \n",
       "2         NaN   NaN   NaN   NaN   NaN   NaN   NaN   NaN   NaN   NaN  ...    \n",
       "3         NaN   NaN   NaN   NaN   NaN   NaN   NaN   NaN   NaN   NaN  ...    \n",
       "4         NaN   NaN   NaN   2.0   NaN   NaN   NaN   NaN   NaN   NaN  ...    \n",
       "5         4.0   NaN   NaN   NaN   4.0   NaN   NaN   4.0   NaN   NaN  ...    \n",
       "\n",
       "movieId  9714  9715  9716  9717  9718  9719  9720  9721  9722  9723  \n",
       "userId                                                               \n",
       "1         NaN   NaN   NaN   NaN   NaN   NaN   NaN   NaN   NaN   NaN  \n",
       "2         NaN   NaN   NaN   NaN   NaN   NaN   NaN   NaN   NaN   NaN  \n",
       "3         NaN   NaN   NaN   NaN   NaN   NaN   NaN   NaN   NaN   NaN  \n",
       "4         NaN   NaN   NaN   NaN   NaN   NaN   NaN   NaN   NaN   NaN  \n",
       "5         NaN   NaN   NaN   NaN   NaN   NaN   NaN   NaN   NaN   NaN  \n",
       "\n",
       "[5 rows x 9724 columns]"
      ]
     },
     "execution_count": 4,
     "metadata": {},
     "output_type": "execute_result"
    }
   ],
   "source": [
    "ratings = data.pivot(index='userId', columns='movieId', values='rating')\n",
    "ratings.head()"
   ]
  },
  {
   "cell_type": "code",
   "execution_count": 5,
   "metadata": {},
   "outputs": [
    {
     "data": {
      "text/plain": [
       "array([[   0,    0,    4],\n",
       "       [   0,    1,    4],\n",
       "       [   0,    2,    4],\n",
       "       ...,\n",
       "       [ 609, 3121,    5],\n",
       "       [ 609, 1392,    5],\n",
       "       [ 609, 2873,    3]], dtype=int64)"
      ]
     },
     "execution_count": 5,
     "metadata": {},
     "output_type": "execute_result"
    }
   ],
   "source": [
    "\n",
    "samples = data[['userId', 'movieId', 'rating']].copy()\n",
    "#subtract one to map userId to proper indices \n",
    "samples['userId'] = samples['userId'] - 1\n",
    "samples = samples.values\n",
    "#preview the samples array. userId, movieId, rating\n",
    "samples"
   ]
  },
  {
   "cell_type": "code",
   "execution_count": 6,
   "metadata": {},
   "outputs": [],
   "source": [
    "#rsme calculator\n",
    "def rmse(dset, preds):\n",
    "    rmse = 0 \n",
    "    for i, j, rating in dset:\n",
    "        rmse += np.power((rating - preds[i, j]), 2)\n",
    "    return np.sqrt(1/len(dset) * rmse)\n",
    "\n",
    "#objective function to calculate\n",
    "def calculate_loss(loss_err, lmb, U, V):\n",
    "    return 1/2*(np.sum(np.power(loss_err, 2))+ lmb/2*(np.power(np.linalg.norm(U, ord='fro'), 2) \n",
    "                                                      + np.power(np.linalg.norm(V, ord='fro'), 2)))\n"
   ]
  },
  {
   "cell_type": "code",
   "execution_count": 7,
   "metadata": {},
   "outputs": [],
   "source": [
    "#shuffling dataset\n",
    "np.random.shuffle(samples)"
   ]
  },
  {
   "cell_type": "code",
   "execution_count": 8,
   "metadata": {},
   "outputs": [
    {
     "name": "stdout",
     "output_type": "stream",
     "text": [
      "iteration 10 \n",
      "loss for train\n",
      " 120622.73803952069\n",
      "iteration 20 \n",
      "loss for train\n",
      " 95360.74710723976\n"
     ]
    }
   ],
   "source": [
    "#setting our parameters \n",
    "lr = .01\n",
    "lmb = float(1)\n",
    "#num of times we run gradient descent\n",
    "epochs = 25\n",
    "K = 1\n",
    "\n",
    "#model to train our function\n",
    "def train_model(lr, lmb, K, epochs):\n",
    "    '''lr: learning rate\n",
    "       lmb: regularization parameter\n",
    "       K: number of latent dimensions\n",
    "       epochs: #numer of times to run SGD\n",
    "\n",
    "       returns\n",
    "       losses: objective function after each epoch\n",
    "       error: rmse of train/test sets'''\n",
    "    \n",
    "    len_users, len_movies = ratings.shape\n",
    "    U = np.random.normal(scale=1./K, size=(len_users, K))\n",
    "    V = np.random.normal(scale=1./K, size=(len_movies, K))\n",
    "\n",
    "    train = samples[:90000]\n",
    "    test = samples[90000:]\n",
    "    error, losses = [], []\n",
    "    \n",
    "    for iteration in range(1, epochs+1):\n",
    "        loss_err = []\n",
    "        #shuffles train set before running SGD\n",
    "        np.random.shuffle(train)\n",
    "        for i, j, rating in train:\n",
    "            pred = U[i,:] * V[j,:]\n",
    "            err = (rating - pred)\n",
    "            loss_err += [err]\n",
    "            \n",
    "            U[i, :] += lr * (err * V[j, :] - (lmb * U[i, :]))\n",
    "            V[j, :] += lr * (err * U[i, :] - (lmb * V[j, :]))\n",
    "        \n",
    "        res = U @ V.T\n",
    "        \n",
    "        #calculates loss and train\n",
    "        loss = calculate_loss(loss_err, lmb, U, V)\n",
    "        rmse_train = rmse(train, res)\n",
    "        rmse_test = rmse(test, res)\n",
    "        if iteration % 10 == 0:\n",
    "            print('iteration', iteration, '\\nloss for train\\n', loss)\n",
    "        error += [(rmse_train, rmse_test)]\n",
    "        losses += [loss]\n",
    "    return error, losses\n",
    "\n",
    "training_error, loss_curve = train_model(lr, lmb, K, epochs)"
   ]
  },
  {
   "cell_type": "markdown",
   "metadata": {},
   "source": [
    "## Analysis\n",
    "After about 10 iterations of gradient descent, our loss function begins to converge. \n",
    "\n",
    "I then looked at the training vs test RMSE, the results are as expected, the RMSE decreases in accordance with the loss and the loss of our test is slightly higher than our training dataset. "
   ]
  },
  {
   "cell_type": "code",
   "execution_count": 9,
   "metadata": {},
   "outputs": [
    {
     "data": {
      "text/plain": [
       "<matplotlib.axes._subplots.AxesSubplot at 0xaf6a930>"
      ]
     },
     "execution_count": 9,
     "metadata": {},
     "output_type": "execute_result"
    },
    {
     "data": {
      "image/png": "[encoded data removed]",
      "text/plain": [
       "<Figure size 432x288 with 1 Axes>"
      ]
     },
     "metadata": {},
     "output_type": "display_data"
    }
   ],
   "source": [
    "#plotting\n",
    "pd.DataFrame(data=loss_curve, columns=['loss']).plot(title='Loss by epoch')"
   ]
  },
  {
   "cell_type": "code",
   "execution_count": 17,
   "metadata": {},
   "outputs": [
    {
     "data": {
      "text/plain": [
       "<matplotlib.axes._subplots.AxesSubplot at 0xafe2d50>"
      ]
     },
     "execution_count": 17,
     "metadata": {},
     "output_type": "execute_result"
    },
    {
     "data": {
      "image/png": "[encoded data removed]",
      "text/plain": [
       "<Figure size 432x288 with 1 Axes>"
      ]
     },
     "metadata": {},
     "output_type": "display_data"
    }
   ],
   "source": [
    "pd.DataFrame(data=training_error, columns=['train', 'test']).plot(title='RMSE for train, test by EPOCH')"
   ]
  },
  {
   "cell_type": "code",
   "execution_count": 11,
   "metadata": {},
   "outputs": [
    {
     "name": "stdout",
     "output_type": "stream",
     "text": [
      "training RMSE 1.378 testing RMSE 1.55\n"
     ]
    }
   ],
   "source": [
    "ending = training_error[-1]\n",
    "print('training RMSE', round(ending[0], 3), 'testing RMSE', round(ending[1], 3))"
   ]
  },
  {
   "cell_type": "markdown",
   "metadata": {},
   "source": [
    "## Analysis\n",
    "As we can see, lower lambdas are our optimum in this case. The higher the regularization parameter the lower the MSE, as our regularization portion of our gradient overcomes our learning rate portion. Perhaps this would change with a subsequent higher learning rate, but in previous experimentation the learning rate was very sensitive and could cause the algorithm to not converge so I kept it constant for this test.\n",
    "\n",
    "The highest lambdas caused gradient explosion which made it impossible to fit our model as it pushed the gradient towards higher numbers than python/numpy can handle \n",
    "\n",
    "\n",
    "Our optimal lambda appears to be somewhere between 0 & .5 as we get the lowest MSE at .1"
   ]
  },
  {
   "cell_type": "code",
   "execution_count": 18,
   "metadata": {},
   "outputs": [
    {
     "name": "stdout",
     "output_type": "stream",
     "text": [
      "\n",
      "\n",
      "predicting for 1e-06\n",
      "iteration 10 \n",
      "loss for train\n",
      " 55065.39290655268\n",
      "iteration 20 \n",
      "loss for train\n",
      " 38308.11264177381\n",
      "\n",
      "\n",
      "predicting for 0.001\n",
      "iteration 10 \n",
      "loss for train\n",
      " 54488.99079229727\n",
      "iteration 20 \n",
      "loss for train\n",
      " 38086.822576559294\n",
      "\n",
      "\n",
      "predicting for 0.1\n",
      "iteration 10 \n",
      "loss for train\n",
      " 62899.72698884802\n",
      "iteration 20 \n",
      "loss for train\n",
      " 42332.67637422059\n",
      "\n",
      "\n",
      "predicting for 0.5\n",
      "iteration 10 \n",
      "loss for train\n",
      " 78675.32786002035\n",
      "iteration 20 \n",
      "loss for train\n",
      " 57695.94863121851\n",
      "\n",
      "\n",
      "predicting for 2\n",
      "iteration 10 \n",
      "loss for train\n",
      " 285461.56763312896\n",
      "iteration 20 \n",
      "loss for train\n",
      " 237401.3041185677\n",
      "\n",
      "\n",
      "predicting for 5\n",
      "iteration 10 \n",
      "loss for train\n",
      " 560433.1809153871\n",
      "iteration 20 \n",
      "loss for train\n",
      " 559285.2654176392\n",
      "\n",
      "\n",
      "predicting for 10\n",
      "iteration 10 \n",
      "loss for train\n",
      " 560428.9634783964\n",
      "iteration 20 \n",
      "loss for train\n",
      " 559482.609692518\n",
      "\n",
      "\n",
      "predicting for 20\n",
      "iteration 10 \n",
      "loss for train\n",
      " 560407.5261333061\n",
      "iteration 20 \n",
      "loss for train\n",
      " 560211.0075895925\n",
      "\n",
      "\n",
      "predicting for 50\n",
      "iteration 10 \n",
      "loss for train\n",
      " 563680.8999002374\n",
      "iteration 20 \n",
      "loss for train\n",
      " 563680.8596176559\n",
      "\n",
      "\n",
      "predicting for 100\n",
      "iteration 10 \n",
      "loss for train\n",
      " 569086.4183277884\n",
      "iteration 20 \n",
      "loss for train\n",
      " 569086.4183277884\n",
      "\n",
      "\n",
      "predicting for 500\n"
     ]
    },
    {
     "name": "stderr",
     "output_type": "stream",
     "text": [
      "c:\\users\\ianwright\\appdata\\local\\programs\\python\\python36-32\\lib\\site-packages\\ipykernel_launcher.py:37: RuntimeWarning: overflow encountered in multiply\n",
      "c:\\users\\ianwright\\appdata\\local\\programs\\python\\python36-32\\lib\\site-packages\\ipykernel_launcher.py:36: RuntimeWarning: overflow encountered in multiply\n",
      "c:\\users\\ianwright\\appdata\\local\\programs\\python\\python36-32\\lib\\site-packages\\ipykernel_launcher.py:36: RuntimeWarning: invalid value encountered in add\n",
      "c:\\users\\ianwright\\appdata\\local\\programs\\python\\python36-32\\lib\\site-packages\\ipykernel_launcher.py:37: RuntimeWarning: invalid value encountered in subtract\n",
      "c:\\users\\ianwright\\appdata\\local\\programs\\python\\python36-32\\lib\\site-packages\\ipykernel_launcher.py:32: RuntimeWarning: overflow encountered in multiply\n",
      "c:\\users\\ianwright\\appdata\\local\\programs\\python\\python36-32\\lib\\site-packages\\ipykernel_launcher.py:10: RuntimeWarning: overflow encountered in power\n",
      "  # Remove the CWD from sys.path while we load stuff.\n"
     ]
    },
    {
     "name": "stdout",
     "output_type": "stream",
     "text": [
      "iteration 10 \n",
      "loss for train\n",
      " nan\n",
      "iteration 20 \n",
      "loss for train\n",
      " nan\n",
      "\n",
      "\n",
      "predicting for 1000\n",
      "iteration 10 \n",
      "loss for train\n",
      " nan\n",
      "iteration 20 \n",
      "loss for train\n",
      " nan\n"
     ]
    }
   ],
   "source": [
    "#predicting for all of the lambdas \n",
    "results = {}\n",
    "for reg in [10**-6, 10**-3, .1, .5, 2, 5, 10, \n",
    "           20, 50, 100, 500, 1000]:\n",
    "    \n",
    "    #iterating through the learning rates \n",
    "    print('\\n\\npredicting for', reg)\n",
    "    results[reg] = train_model(lr, float(reg), K, 25)[0]\n",
    "    \n",
    "    "
   ]
  },
  {
   "cell_type": "code",
   "execution_count": 19,
   "metadata": {},
   "outputs": [],
   "source": [
    "end = {x: y[-1] for x, y in results.items()}"
   ]
  },
  {
   "cell_type": "code",
   "execution_count": 20,
   "metadata": {},
   "outputs": [
    {
     "data": {
      "text/plain": [
       "<matplotlib.axes._subplots.AxesSubplot at 0xafd2db0>"
      ]
     },
     "execution_count": 20,
     "metadata": {},
     "output_type": "execute_result"
    },
    {
     "data": {
      "image/png": "[encoded data removed]",
      "text/plain": [
       "<Figure size 432x288 with 1 Axes>"
      ]
     },
     "metadata": {},
     "output_type": "display_data"
    }
   ],
   "source": [
    "end_plot = pd.DataFrame.from_dict(data = end).T\n",
    "end_plot.columns = ['train', 'test']\n",
    "end_plot.plot(kind='bar')"
   ]
  },
  {
   "cell_type": "code",
   "execution_count": 21,
   "metadata": {},
   "outputs": [
    {
     "data": {
      "text/html": [
       "<div>\n",
       "<style scoped>\n",
       "    .dataframe tbody tr th:only-of-type {\n",
       "        vertical-align: middle;\n",
       "    }\n",
       "\n",
       "    .dataframe tbody tr th {\n",
       "        vertical-align: top;\n",
       "    }\n",
       "\n",
       "    .dataframe thead th {\n",
       "        text-align: right;\n",
       "    }\n",
       "</style>\n",
       "<table border=\"1\" class=\"dataframe\">\n",
       "  <thead>\n",
       "    <tr style=\"text-align: right;\">\n",
       "      <th></th>\n",
       "      <th>train</th>\n",
       "      <th>test</th>\n",
       "    </tr>\n",
       "  </thead>\n",
       "  <tbody>\n",
       "    <tr>\n",
       "      <th>0.000001</th>\n",
       "      <td>0.870102</td>\n",
       "      <td>1.237929</td>\n",
       "    </tr>\n",
       "    <tr>\n",
       "      <th>0.001000</th>\n",
       "      <td>0.868257</td>\n",
       "      <td>1.225508</td>\n",
       "    </tr>\n",
       "    <tr>\n",
       "      <th>0.100000</th>\n",
       "      <td>0.906346</td>\n",
       "      <td>1.209325</td>\n",
       "    </tr>\n",
       "    <tr>\n",
       "      <th>0.500000</th>\n",
       "      <td>1.055367</td>\n",
       "      <td>1.296233</td>\n",
       "    </tr>\n",
       "    <tr>\n",
       "      <th>2.000000</th>\n",
       "      <td>2.236296</td>\n",
       "      <td>2.311954</td>\n",
       "    </tr>\n",
       "    <tr>\n",
       "      <th>5.000000</th>\n",
       "      <td>3.522037</td>\n",
       "      <td>3.534881</td>\n",
       "    </tr>\n",
       "    <tr>\n",
       "      <th>10.000000</th>\n",
       "      <td>3.522046</td>\n",
       "      <td>3.534856</td>\n",
       "    </tr>\n",
       "    <tr>\n",
       "      <th>20.000000</th>\n",
       "      <td>3.522046</td>\n",
       "      <td>3.534868</td>\n",
       "    </tr>\n",
       "    <tr>\n",
       "      <th>50.000000</th>\n",
       "      <td>3.522046</td>\n",
       "      <td>3.534868</td>\n",
       "    </tr>\n",
       "    <tr>\n",
       "      <th>100.000000</th>\n",
       "      <td>3.522046</td>\n",
       "      <td>3.534868</td>\n",
       "    </tr>\n",
       "    <tr>\n",
       "      <th>500.000000</th>\n",
       "      <td>NaN</td>\n",
       "      <td>NaN</td>\n",
       "    </tr>\n",
       "    <tr>\n",
       "      <th>1000.000000</th>\n",
       "      <td>NaN</td>\n",
       "      <td>NaN</td>\n",
       "    </tr>\n",
       "  </tbody>\n",
       "</table>\n",
       "</div>"
      ],
      "text/plain": [
       "                train      test\n",
       "0.000001     0.870102  1.237929\n",
       "0.001000     0.868257  1.225508\n",
       "0.100000     0.906346  1.209325\n",
       "0.500000     1.055367  1.296233\n",
       "2.000000     2.236296  2.311954\n",
       "5.000000     3.522037  3.534881\n",
       "10.000000    3.522046  3.534856\n",
       "20.000000    3.522046  3.534868\n",
       "50.000000    3.522046  3.534868\n",
       "100.000000   3.522046  3.534868\n",
       "500.000000        NaN       NaN\n",
       "1000.000000       NaN       NaN"
      ]
     },
     "execution_count": 21,
     "metadata": {},
     "output_type": "execute_result"
    }
   ],
   "source": [
    "end_plot"
   ]
  }
 ],
 "metadata": {
  "kernelspec": {
   "display_name": "Python 3",
   "language": "python",
   "name": "python3"
  },
  "language_info": {
   "codemirror_mode": {
    "name": "ipython",
    "version": 3
   },
   "file_extension": ".py",
   "mimetype": "text/x-python",
   "name": "python",
   "nbconvert_exporter": "python",
   "pygments_lexer": "ipython3",
   "version": "3.6.4"
  }
 },
 "nbformat": 4,
 "nbformat_minor": 2
}

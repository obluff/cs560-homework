{
 "cells": [
  {
   "cell_type": "code",
   "execution_count": 39,
   "metadata": {},
   "outputs": [],
   "source": [
    "import pandas as pd\n",
    "import numpy as np\n"
   ]
  },
  {
   "cell_type": "code",
   "execution_count": 40,
   "metadata": {},
   "outputs": [],
   "source": [
    "data = pd.read_csv('ratings.csv')\n",
    "data = data.astype(int)"
   ]
  },
  {
   "cell_type": "code",
   "execution_count": 41,
   "metadata": {},
   "outputs": [],
   "source": [
    "i = 0\n",
    "encode, decode = {}, {}\n",
    "for x in data['movieId'].unique():\n",
    "    encode[x] = i\n",
    "    decode[i] = x\n",
    "    i += 1\n",
    "data['movieId'] = data['movieId'].apply(lambda x: encode[x])\n",
    "\n",
    "ratings = data.pivot(index='userId', columns='movieId', values='rating')"
   ]
  },
  {
   "cell_type": "code",
   "execution_count": 50,
   "metadata": {},
   "outputs": [],
   "source": []
  },
  {
   "cell_type": "code",
   "execution_count": null,
   "metadata": {},
   "outputs": [],
   "source": [
    "data"
   ]
  },
  {
   "cell_type": "code",
   "execution_count": 52,
   "metadata": {},
   "outputs": [],
   "source": [
    "samples = data[['userId', 'movieId', 'rating']].copy()\n",
    "\n",
    "samples['userId'] = samples['userId'] - 1\n",
    "\n",
    "samples = samples.values\n"
   ]
  },
  {
   "cell_type": "code",
   "execution_count": 53,
   "metadata": {},
   "outputs": [],
   "source": [
    "n_u = len(data['userId'].unique())\n",
    "n_m = len(data['movieId'].unique())\n"
   ]
  },
  {
   "cell_type": "code",
   "execution_count": null,
   "metadata": {},
   "outputs": [
    {
     "name": "stdout",
     "output_type": "stream",
     "text": [
      "iteration 5\n",
      "42.20979853160142\n",
      "iteration 10\n",
      "41.988935387113685\n",
      "iteration 15\n",
      "41.80025664294661\n",
      "iteration 20\n",
      "41.639079450626596\n",
      "iteration 25\n",
      "41.50146064763645\n",
      "iteration 30\n",
      "41.384071767488535\n",
      "iteration 35\n",
      "41.28409607103827\n",
      "iteration 40\n",
      "41.19914368269883\n",
      "iteration 45\n",
      "41.12718159265023\n",
      "iteration 50\n",
      "41.06647585475094\n",
      "iteration 55\n",
      "41.015543784893076\n",
      "iteration 60\n",
      "40.973114359442555\n",
      "iteration 65\n",
      "40.93809534011698\n",
      "iteration 70\n",
      "40.90954592079603\n",
      "iteration 75\n",
      "40.886653912657295\n",
      "iteration 80\n",
      "40.868716664785744\n"
     ]
    },
    {
     "ename": "KeyboardInterrupt",
     "evalue": "",
     "output_type": "error",
     "traceback": [
      "\u001b[0;31m---------------------------------------------------------------------\u001b[0m",
      "\u001b[0;31mKeyboardInterrupt\u001b[0m                   Traceback (most recent call last)",
      "\u001b[0;32m<ipython-input-55-a5a5baf562ce>\u001b[0m in \u001b[0;36m<module>\u001b[0;34m\u001b[0m\n\u001b[1;32m     21\u001b[0m         \u001b[0mV\u001b[0m\u001b[0;34m[\u001b[0m\u001b[0mj\u001b[0m\u001b[0;34m,\u001b[0m \u001b[0;34m:\u001b[0m\u001b[0;34m]\u001b[0m \u001b[0;34m+=\u001b[0m \u001b[0mlr\u001b[0m \u001b[0;34m*\u001b[0m \u001b[0;34m(\u001b[0m\u001b[0merr\u001b[0m \u001b[0;34m*\u001b[0m \u001b[0mU\u001b[0m\u001b[0;34m[\u001b[0m\u001b[0mi\u001b[0m\u001b[0;34m,\u001b[0m \u001b[0;34m:\u001b[0m\u001b[0;34m]\u001b[0m \u001b[0;34m-\u001b[0m \u001b[0;34m(\u001b[0m\u001b[0;36m.5\u001b[0m\u001b[0;34m*\u001b[0m \u001b[0mV\u001b[0m\u001b[0;34m[\u001b[0m\u001b[0mj\u001b[0m\u001b[0;34m,\u001b[0m \u001b[0;34m:\u001b[0m\u001b[0;34m]\u001b[0m\u001b[0;34m)\u001b[0m\u001b[0;34m)\u001b[0m\u001b[0;34m\u001b[0m\u001b[0;34m\u001b[0m\u001b[0m\n\u001b[1;32m     22\u001b[0m \u001b[0;34m\u001b[0m\u001b[0m\n\u001b[0;32m---> 23\u001b[0;31m     \u001b[0mres\u001b[0m \u001b[0;34m=\u001b[0m \u001b[0mU\u001b[0m \u001b[0;34m@\u001b[0m \u001b[0mV\u001b[0m\u001b[0;34m.\u001b[0m\u001b[0mT\u001b[0m\u001b[0;34m\u001b[0m\u001b[0;34m\u001b[0m\u001b[0m\n\u001b[0m\u001b[1;32m     24\u001b[0m     \u001b[0mrmse\u001b[0m \u001b[0;34m=\u001b[0m \u001b[0;36m0\u001b[0m\u001b[0;34m\u001b[0m\u001b[0;34m\u001b[0m\u001b[0m\n\u001b[1;32m     25\u001b[0m     \u001b[0;32mfor\u001b[0m \u001b[0mi\u001b[0m\u001b[0;34m,\u001b[0m \u001b[0mj\u001b[0m\u001b[0;34m,\u001b[0m \u001b[0mrating\u001b[0m \u001b[0;32min\u001b[0m \u001b[0mtrain\u001b[0m\u001b[0;34m:\u001b[0m\u001b[0;34m\u001b[0m\u001b[0;34m\u001b[0m\u001b[0m\n",
      "\u001b[0;31mKeyboardInterrupt\u001b[0m: "
     ]
    },
    {
     "name": "stderr",
     "output_type": "stream",
     "text": [
      "ERROR:root:Invalid alias: The name clear can't be aliased because it is another magic command.\n",
      "ERROR:root:Invalid alias: The name more can't be aliased because it is another magic command.\n",
      "ERROR:root:Invalid alias: The name less can't be aliased because it is another magic command.\n",
      "ERROR:root:Invalid alias: The name man can't be aliased because it is another magic command.\n"
     ]
    }
   ],
   "source": [
    "len_users, len_movies = ratings.shape\n",
    "K = 20\n",
    "\n",
    "lr = .00001\n",
    "U = 3 * np.random.rand(n_u, K) # Latent factors for users\n",
    "V = 3 * np.random.rand(n_m, K) # Latent factors for movies\n",
    "\n",
    "#U = np.random.normal(scale=1/K, size=(len_users, K))\n",
    "#V = np.random.normal(scale=1/K, size=(len_movies, K))\n",
    "\n",
    "train = samples[:8000]\n",
    "test = samples[:2000]\n",
    "error = []\n",
    "for iteration in range(1, 10000):\n",
    "   \n",
    "    for i, j, rating in train:\n",
    "        pred = U[i,:] * V[j,:]\n",
    "        err = (rating - pred)\n",
    "\n",
    "        U[i, :] += lr * (err * V[j, :] - (.5* U[i, :]))\n",
    "        V[j, :] += lr * (err * U[i, :] - (.5* V[j, :]))\n",
    "    \n",
    "    res = U @ V.T\n",
    "    rmse = 0\n",
    "    for i, j, rating in train:\n",
    "        rmse +=  np.power((rating - res[i, j]), 2)\n",
    "    rmse = np.sqrt(1/len(train) * rmse)\n",
    "    if iteration % 5 == 0:\n",
    "        print('iteration', iteration)\n",
    "        print(rmse)\n",
    "    error += [rmse]\n",
    "\n",
    "    \n",
    "\n",
    "    "
   ]
  },
  {
   "cell_type": "code",
   "execution_count": 36,
   "metadata": {},
   "outputs": [
    {
     "data": {
      "text/plain": [
       "array([[ -1,   0,   4],\n",
       "       [ -1,   1,   4],\n",
       "       [ -1,   2,   4],\n",
       "       ...,\n",
       "       [ 54, 529,   3],\n",
       "       [ 54, 530,   4],\n",
       "       [ 54, 531,   3]])"
      ]
     },
     "execution_count": 36,
     "metadata": {},
     "output_type": "execute_result"
    }
   ],
   "source": [
    "train"
   ]
  },
  {
   "cell_type": "code",
   "execution_count": 10,
   "metadata": {},
   "outputs": [
    {
     "data": {
      "text/plain": [
       "array([[100,  91,  97, ...,   0,   1,   1],\n",
       "       [ 30,  28,  30, ...,   0,   0,   0],\n",
       "       [  7,   6,   7, ...,   0,   0,   0],\n",
       "       ...,\n",
       "       [  0,   0,   0, ...,   0,   0,   0],\n",
       "       [  0,   0,   0, ...,   0,   0,   0],\n",
       "       [  0,   0,   0, ...,   0,   0,   0]])"
      ]
     },
     "execution_count": 10,
     "metadata": {},
     "output_type": "execute_result"
    }
   ],
   "source": [
    "(U @ V.T).astype(int)"
   ]
  },
  {
   "cell_type": "code",
   "execution_count": 243,
   "metadata": {},
   "outputs": [
    {
     "data": {
      "text/plain": [
       "(610, 9724)"
      ]
     },
     "execution_count": 243,
     "metadata": {},
     "output_type": "execute_result"
    }
   ],
   "source": []
  },
  {
   "cell_type": "code",
   "execution_count": null,
   "metadata": {},
   "outputs": [],
   "source": []
  }
 ],
 "metadata": {
  "kernelspec": {
   "display_name": "Python 3",
   "language": "python",
   "name": "python3"
  },
  "language_info": {
   "codemirror_mode": {
    "name": "ipython",
    "version": 3
   },
   "file_extension": ".py",
   "mimetype": "text/x-python",
   "name": "python",
   "nbconvert_exporter": "python",
   "pygments_lexer": "ipython3",
   "version": "3.7.3"
  }
 },
 "nbformat": 4,
 "nbformat_minor": 2
}

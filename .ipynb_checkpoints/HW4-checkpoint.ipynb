{
 "cells": [
  {
   "cell_type": "code",
   "execution_count": 1,
   "metadata": {},
   "outputs": [],
   "source": [
    "%matplotlib inline\n",
    "import pandas as pd\n",
    "import numpy as np"
   ]
  },
  {
   "cell_type": "markdown",
   "metadata": {},
   "source": [
    "## generate_data\n",
    "\n",
    "generates data, returns sparse data if sparsity=True"
   ]
  },
  {
   "cell_type": "code",
   "execution_count": 2,
   "metadata": {},
   "outputs": [
    {
     "name": "stdout",
     "output_type": "stream",
     "text": [
      "(1000, 1)\n",
      "(1000, 1)\n",
      "(10000, 1000)\n"
     ]
    }
   ],
   "source": [
    "#global d parameter\n",
    "d = 1000\n",
    "def generate_data(sparsity=False):\n",
    "    d = 1000 \n",
    "    nmax = 10000 \n",
    "    \n",
    "    ground_truth = np.random.randn(d, 1)\n",
    "    print(ground_truth.shape)\n",
    "    if sparsity == True:\n",
    "        sample = np.random.choice(ground_truth.reshape(d), size=20)\n",
    "        ground_truth = np.append(sample , np.zeros((d-20, 1)))\n",
    "        np.random.shuffle(ground_truth)\n",
    "        ground_truth = ground_truth.reshape(d, 1)\n",
    "    #generating X \n",
    "    X = 1 * np.random.randn(nmax, d)\n",
    "    e = .1 * np.random.randn(nmax, 1)\n",
    "    \n",
    "    print(ground_truth.shape)\n",
    "    print(X.shape)\n",
    "    y = np.matmul(X, ground_truth) + e \n",
    "    \n",
    "    return X, y, e, ground_truth\n",
    "\n",
    "X, y, e, ground_truth = generate_data(sparsity=True)\n",
    "\n"
   ]
  },
  {
   "cell_type": "markdown",
   "metadata": {},
   "source": [
    "## Gradient Descent\n",
    "\n",
    "get_lr: returns alpha/L values\n",
    "\n",
    "calculateGD: returns pandas dataframe of z* and n. \n",
    "\n"
   ]
  },
  {
   "cell_type": "code",
   "execution_count": 3,
   "metadata": {},
   "outputs": [],
   "source": [
    "def get_lr(M):\n",
    "    hessian_eigh_vals = np.linalg.eig(np.matmul(M.T, M))[0]\n",
    "    alpha = min(hessian_eigh_vals)\n",
    "    L = max(hessian_eigh_vals)\n",
    "    return alpha, L \n",
    "\n",
    "\n",
    "def calculateGD(ranges, q):\n",
    "    #takes in range array and parameter for high/low dimensions to determine learning rate\n",
    "    w_pred = {}\n",
    "    for n in ranges:\n",
    "        print('predicting for', n)\n",
    "        \n",
    "        X_n = X[:n, :]\n",
    "        Y_n = y[:n, :]\n",
    "        alpha, L = get_lr(X_n)\n",
    "        \n",
    "        if q == 1:\n",
    "            lr0 = 2/(alpha + L)\n",
    "        else:\n",
    "            lr0 = 1/L \n",
    "        \n",
    "        w = np.zeros((d, 1))\n",
    "        for i in range(100):\n",
    "            grad = np.sum((np.matmul(X_n, w) - Y_n) * X_n, axis=0).reshape(1000, 1)\n",
    "            w = w - lr0*grad\n",
    "        w_pred[n] = w\n",
    "    norms = [np.linalg.norm(ground_truth-w_pred[n]) for n in w_pred.keys()]\n",
    "    return pd.DataFrame(data=norms, index=w_pred.keys(), columns = ['z*'])\n",
    "     "
   ]
  },
  {
   "cell_type": "markdown",
   "metadata": {},
   "source": [
    "## Question 1"
   ]
  },
  {
   "cell_type": "code",
   "execution_count": 4,
   "metadata": {},
   "outputs": [
    {
     "name": "stdout",
     "output_type": "stream",
     "text": [
      "predicting for 1000\n",
      "predicting for 1500\n",
      "predicting for 2000\n",
      "predicting for 2500\n",
      "predicting for 3000\n",
      "predicting for 3500\n",
      "predicting for 4000\n",
      "predicting for 4500\n",
      "predicting for 5000\n",
      "predicting for 5500\n",
      "predicting for 6000\n",
      "predicting for 6500\n",
      "predicting for 7000\n",
      "predicting for 7500\n",
      "predicting for 8000\n",
      "predicting for 8500\n",
      "predicting for 9000\n",
      "predicting for 9500\n",
      "predicting for 10000\n"
     ]
    },
    {
     "data": {
      "text/plain": [
       "<matplotlib.axes._subplots.AxesSubplot at 0x7fb8caceabe0>"
      ]
     },
     "execution_count": 4,
     "metadata": {},
     "output_type": "execute_result"
    },
    {
     "data": {
      "image/png": "[encoded data removed]",
      "text/plain": [
       "<Figure size 432x288 with 1 Axes>"
      ]
     },
     "metadata": {
      "needs_background": "light"
     },
     "output_type": "display_data"
    }
   ],
   "source": [
    "q1 = range(1000, 10001, 500)\n",
    "\n",
    "q_1 = calculateGD(q1, 1)\n",
    "q_1.plot(title='Question 1')"
   ]
  },
  {
   "cell_type": "markdown",
   "metadata": {},
   "source": [
    "## Question 2"
   ]
  },
  {
   "cell_type": "code",
   "execution_count": 5,
   "metadata": {},
   "outputs": [
    {
     "name": "stdout",
     "output_type": "stream",
     "text": [
      "predicting for 100\n",
      "predicting for 200\n",
      "predicting for 300\n",
      "predicting for 400\n",
      "predicting for 500\n",
      "predicting for 600\n",
      "predicting for 700\n",
      "predicting for 800\n",
      "predicting for 900\n",
      "predicting for 1000\n"
     ]
    },
    {
     "data": {
      "text/plain": [
       "<matplotlib.axes._subplots.AxesSubplot at 0x7fb8c3d93390>"
      ]
     },
     "execution_count": 5,
     "metadata": {},
     "output_type": "execute_result"
    },
    {
     "data": {
      "image/png": "[encoded data removed]",
      "text/plain": [
       "<Figure size 432x288 with 1 Axes>"
      ]
     },
     "metadata": {
      "needs_background": "light"
     },
     "output_type": "display_data"
    }
   ],
   "source": [
    "q2 = range(100, 1001, 100)\n",
    "q_2 = calculateGD(q2, 2)\n",
    "q_2.plot()"
   ]
  },
  {
   "cell_type": "markdown",
   "metadata": {},
   "source": [
    "## Generating Data for Questions 3 & 4"
   ]
  },
  {
   "cell_type": "code",
   "execution_count": 50,
   "metadata": {},
   "outputs": [
    {
     "name": "stdout",
     "output_type": "stream",
     "text": [
      "(1000, 1)\n",
      "(1000, 1)\n",
      "(10000, 1000)\n"
     ]
    }
   ],
   "source": [
    "#generating data for 3 & 4\n",
    "X, y, e, ground_truth = generate_data(sparsity=True)\n"
   ]
  },
  {
   "cell_type": "code",
   "execution_count": 12,
   "metadata": {},
   "outputs": [
    {
     "name": "stdout",
     "output_type": "stream",
     "text": [
      "predicting for 100\n",
      "predicting for 200\n",
      "predicting for 300\n",
      "predicting for 400\n",
      "predicting for 500\n",
      "predicting for 600\n",
      "predicting for 700\n",
      "predicting for 800\n",
      "predicting for 900\n",
      "predicting for 1000\n"
     ]
    },
    {
     "data": {
      "text/plain": [
       "<matplotlib.axes._subplots.AxesSubplot at 0x7fb8ca9a1a90>"
      ]
     },
     "execution_count": 12,
     "metadata": {},
     "output_type": "execute_result"
    },
    {
     "data": {
      "image/png": "[encoded data removed]",
      "text/plain": [
       "<Figure size 432x288 with 1 Axes>"
      ]
     },
     "metadata": {
      "needs_background": "light"
     },
     "output_type": "display_data"
    }
   ],
   "source": [
    "q3 = range(100, 1001, 100)\n",
    "q_3 = calculateGD(q3, 2)\n",
    "q_3.plot(title='Question 3')"
   ]
  },
  {
   "cell_type": "markdown",
   "metadata": {},
   "source": [
    "## Question 4\n",
    "augmented gradient descent function to run projected_gd"
   ]
  },
  {
   "cell_type": "code",
   "execution_count": 55,
   "metadata": {},
   "outputs": [],
   "source": [
    "\n",
    "def hard_threshold(arr):\n",
    "    a = np.abs(arr)\n",
    "    ind = np.argpartition(a, -20)[-20:]\n",
    "    new = []\n",
    "    for i, a in enumerate(arr):\n",
    "        if i in ind:\n",
    "            new += [a]\n",
    "        else:\n",
    "            new += [0]\n",
    "    return np.asarray(new).reshape(1000, 1)\n",
    "\n",
    "\n",
    "\n",
    "\n",
    "\n",
    "\n",
    "def projected_gd(ranges, q):\n",
    "    w_pred = {}\n",
    "    for n in ranges:\n",
    "        print('predicting for', n)\n",
    "        \n",
    "        X_n = X[:n, :]\n",
    "        Y_n = y[:n, :]\n",
    "        alpha, L = get_lr(X_n)\n",
    "        \n",
    "        if q == 1:\n",
    "            lr0 = 2/(alpha + L)\n",
    "        else:\n",
    "            lr0 = 1/L \n",
    "        \n",
    "        w = np.zeros((d, 1))\n",
    "        for i in range(100):\n",
    "            grad = np.sum((np.matmul(X_n, w) - Y_n) * X_n, axis=0).reshape(1000, 1)\n",
    "            w = w - lr0*grad\n",
    "\n",
    "            sp = (w != 0).sum()\n",
    "            if sp > 20:\n",
    "                w = hard_threshold(w.reshape(1000))\n",
    "        w_pred[n] = w\n",
    "    norms = [np.linalg.norm(ground_truth-w_pred[n]) for n in w_pred.keys()]\n",
    "    return pd.DataFrame(data=norms, index=w_pred.keys(), columns = ['z*'])\n",
    "     "
   ]
  },
  {
   "cell_type": "code",
   "execution_count": 56,
   "metadata": {
    "scrolled": true
   },
   "outputs": [
    {
     "name": "stdout",
     "output_type": "stream",
     "text": [
      "predicting for 100\n",
      "predicting for 200\n",
      "predicting for 300\n",
      "predicting for 400\n",
      "predicting for 500\n",
      "predicting for 600\n",
      "predicting for 700\n",
      "predicting for 800\n",
      "predicting for 900\n",
      "predicting for 1000\n"
     ]
    },
    {
     "data": {
      "text/plain": [
       "<matplotlib.axes._subplots.AxesSubplot at 0x7fb8ca70e518>"
      ]
     },
     "execution_count": 56,
     "metadata": {},
     "output_type": "execute_result"
    },
    {
     "data": {
      "image/png": "[encoded data removed]",
      "text/plain": [
       "<Figure size 432x288 with 1 Axes>"
      ]
     },
     "metadata": {
      "needs_background": "light"
     },
     "output_type": "display_data"
    }
   ],
   "source": [
    "#use same range from q3\n",
    "q_4 = projected_gd(q3, 2)\n",
    "q_4.plot(title='Question 4')"
   ]
  },
  {
   "cell_type": "code",
   "execution_count": null,
   "metadata": {},
   "outputs": [],
   "source": []
  }
 ],
 "metadata": {
  "kernelspec": {
   "display_name": "Python 3",
   "language": "python",
   "name": "python3"
  },
  "language_info": {
   "codemirror_mode": {
    "name": "ipython",
    "version": 3
   },
   "file_extension": ".py",
   "mimetype": "text/x-python",
   "name": "python",
   "nbconvert_exporter": "python",
   "pygments_lexer": "ipython3",
   "version": "3.7.3"
  }
 },
 "nbformat": 4,
 "nbformat_minor": 2
}
